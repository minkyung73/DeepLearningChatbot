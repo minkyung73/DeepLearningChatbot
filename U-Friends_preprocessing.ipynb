{
 "cells": [
  {
   "cell_type": "code",
   "execution_count": 58,
   "id": "be4acf98",
   "metadata": {},
   "outputs": [],
   "source": [
    "import pandas as pd\n",
    "import numpy as np\n",
    "from sklearn.preprocessing import LabelEncoder\n",
    "import matplotlib.pyplot as plt\n",
    "from matplotlib import rc\n",
    "%matplotlib inline\n",
    "\n",
    "rc('font', family='AppleGothic')\n",
    "plt.rcParams['axes.unicode_minus'] = False"
   ]
  },
  {
   "cell_type": "code",
   "execution_count": 43,
   "id": "28ce0ff4",
   "metadata": {},
   "outputs": [],
   "source": [
    "filename = 'final_training.xlsx'\n",
    "df = pd.read_excel(filename)"
   ]
  },
  {
   "cell_type": "code",
   "execution_count": 22,
   "id": "a9d72e49",
   "metadata": {},
   "outputs": [
    {
     "data": {
      "text/html": [
       "<div>\n",
       "<style scoped>\n",
       "    .dataframe tbody tr th:only-of-type {\n",
       "        vertical-align: middle;\n",
       "    }\n",
       "\n",
       "    .dataframe tbody tr th {\n",
       "        vertical-align: top;\n",
       "    }\n",
       "\n",
       "    .dataframe thead th {\n",
       "        text-align: right;\n",
       "    }\n",
       "</style>\n",
       "<table border=\"1\" class=\"dataframe\">\n",
       "  <thead>\n",
       "    <tr style=\"text-align: right;\">\n",
       "      <th></th>\n",
       "      <th>번호</th>\n",
       "      <th>연령</th>\n",
       "      <th>성별</th>\n",
       "      <th>상황키워드</th>\n",
       "      <th>신체질환</th>\n",
       "      <th>감정_대분류</th>\n",
       "      <th>감정_소분류</th>\n",
       "      <th>사람문장1</th>\n",
       "      <th>시스템응답1</th>\n",
       "      <th>사람문장2</th>\n",
       "      <th>시스템응답2</th>\n",
       "      <th>사람문장3</th>\n",
       "      <th>시스템응답3</th>\n",
       "      <th>사람문장4</th>\n",
       "      <th>시스템응답4</th>\n",
       "    </tr>\n",
       "  </thead>\n",
       "  <tbody>\n",
       "    <tr>\n",
       "      <th>0</th>\n",
       "      <td>44164</td>\n",
       "      <td>청년</td>\n",
       "      <td>남성</td>\n",
       "      <td>연애, 결혼, 출산</td>\n",
       "      <td>해당없음</td>\n",
       "      <td>기쁨</td>\n",
       "      <td>신이 난</td>\n",
       "      <td>아내가 드디어 출산하게 되어서 정말 신이 나.</td>\n",
       "      <td>아내분이 출산을 하시는군요. 정말 축하드려요.</td>\n",
       "      <td>아 지금 정말 신이 나.</td>\n",
       "      <td>잘 된 일이네요.</td>\n",
       "      <td>아기가 점점 클게 벌써 기대가 되네. 내가 많이 놀아줘야지.</td>\n",
       "      <td>좋은 아빠가 되실 거 같아요. 진심으로 축하드려요.</td>\n",
       "      <td>NaN</td>\n",
       "      <td>NaN</td>\n",
       "    </tr>\n",
       "    <tr>\n",
       "      <th>1</th>\n",
       "      <td>3926</td>\n",
       "      <td>노년</td>\n",
       "      <td>남성</td>\n",
       "      <td>건강, 죽음</td>\n",
       "      <td>만성질환 유</td>\n",
       "      <td>불안</td>\n",
       "      <td>스트레스 받는</td>\n",
       "      <td>당뇨랑 합병증 때문에 먹어야 할 약이 열 가지가 넘어가니까 스트레스야.</td>\n",
       "      <td>약 종류가 많아 번거로우시겠어요.</td>\n",
       "      <td>건강할 때 관리 좀 잘할걸 하는 생각이 들더라고.</td>\n",
       "      <td>현재 상황에서 변화를 주기 위해 어떻게 하면 될까요?</td>\n",
       "      <td>약을 잘 챙겨 먹고 나을 수 있도록 노력해야지.</td>\n",
       "      <td>약을 잘 챙겨 먹어 건강해지시길 바랄게요.</td>\n",
       "      <td>NaN</td>\n",
       "      <td>NaN</td>\n",
       "    </tr>\n",
       "    <tr>\n",
       "      <th>2</th>\n",
       "      <td>50882</td>\n",
       "      <td>청소년</td>\n",
       "      <td>여성</td>\n",
       "      <td>학업 및 진로</td>\n",
       "      <td>해당없음</td>\n",
       "      <td>당황</td>\n",
       "      <td>당황</td>\n",
       "      <td>고등학교에 올라오니 중학교 때보다 수업이 갑자기 어려워져서 당황스러워.</td>\n",
       "      <td>고등학교 수업이 중학교 때와는 다르게 갑자기 어려워서 당황스러우시군요.</td>\n",
       "      <td>아직 학기 초인데 내가 수업에 잘 따라갈 수 있을지 걱정돼.</td>\n",
       "      <td>이 상황에서 할 수 있는 게 어떤 것이 있을까요?</td>\n",
       "      <td>중학교 수업을 들을 때보다 훨씬 더 열심히 할 거야.</td>\n",
       "      <td>수업을 어떤 방식으로 열심히 듣는게 좋을까요?</td>\n",
       "      <td>선생님이 강조하신 부분을 필기하고 집에서 매일 수업 내용을 복습하려고 해.</td>\n",
       "      <td>열심히 해서 좋은 결과가 있었으면 좋겠어요.</td>\n",
       "    </tr>\n",
       "    <tr>\n",
       "      <th>3</th>\n",
       "      <td>31303</td>\n",
       "      <td>노년</td>\n",
       "      <td>남성</td>\n",
       "      <td>재정</td>\n",
       "      <td>만성질환 무</td>\n",
       "      <td>기쁨</td>\n",
       "      <td>신이 난</td>\n",
       "      <td>재취업이 돼서 받게 된 첫 월급으로 온 가족이 외식을 할 예정이야. 너무 행복해.</td>\n",
       "      <td>재취업 후 첫 월급이라 정말 기쁘시겠어요.</td>\n",
       "      <td>퇴직 후 다시는 돈을 못 벌 줄 알았는데 이렇게 월급으로 가족에게 맛있는 밥을 살 ...</td>\n",
       "      <td>이 기분을 유지하려면 어떻게 해야 할까요?</td>\n",
       "      <td>회사생활을 열심히 해서 계속 월급을 받을거야!</td>\n",
       "      <td>계속 원하시는 대로 회사생활이 이어지길 바랄게요.</td>\n",
       "      <td>NaN</td>\n",
       "      <td>NaN</td>\n",
       "    </tr>\n",
       "    <tr>\n",
       "      <th>4</th>\n",
       "      <td>47200</td>\n",
       "      <td>노년</td>\n",
       "      <td>여성</td>\n",
       "      <td>재정</td>\n",
       "      <td>만성질환 유</td>\n",
       "      <td>기쁨</td>\n",
       "      <td>안도</td>\n",
       "      <td>빚을 드디어 다 갚게 되어서 이제야 안도감이 들어.</td>\n",
       "      <td>기분 좋으시겠어요. 앞으로는 어떻게 하실 생각이신가요?</td>\n",
       "      <td>빚도 다 갚았으니 당분간은 아무 생각도 안 하며 살고 싶어.</td>\n",
       "      <td>빚도 다 갚았으니 당분간은 아무 생각도 안 하며 살고 싶으시군요.</td>\n",
       "      <td>NaN</td>\n",
       "      <td>NaN</td>\n",
       "      <td>NaN</td>\n",
       "      <td>NaN</td>\n",
       "    </tr>\n",
       "  </tbody>\n",
       "</table>\n",
       "</div>"
      ],
      "text/plain": [
       "      번호   연령  성별       상황키워드    신체질환 감정_대분류   감정_소분류  \\\n",
       "0  44164   청년  남성  연애, 결혼, 출산    해당없음     기쁨     신이 난   \n",
       "1   3926   노년  남성      건강, 죽음  만성질환 유     불안  스트레스 받는   \n",
       "2  50882  청소년  여성     학업 및 진로    해당없음     당황       당황   \n",
       "3  31303   노년  남성          재정  만성질환 무     기쁨     신이 난   \n",
       "4  47200   노년  여성          재정  만성질환 유     기쁨       안도   \n",
       "\n",
       "                                           사람문장1  \\\n",
       "0                      아내가 드디어 출산하게 되어서 정말 신이 나.   \n",
       "1        당뇨랑 합병증 때문에 먹어야 할 약이 열 가지가 넘어가니까 스트레스야.   \n",
       "2        고등학교에 올라오니 중학교 때보다 수업이 갑자기 어려워져서 당황스러워.   \n",
       "3  재취업이 돼서 받게 된 첫 월급으로 온 가족이 외식을 할 예정이야. 너무 행복해.   \n",
       "4                   빚을 드디어 다 갚게 되어서 이제야 안도감이 들어.   \n",
       "\n",
       "                                    시스템응답1  \\\n",
       "0                아내분이 출산을 하시는군요. 정말 축하드려요.   \n",
       "1                       약 종류가 많아 번거로우시겠어요.   \n",
       "2  고등학교 수업이 중학교 때와는 다르게 갑자기 어려워서 당황스러우시군요.   \n",
       "3                  재취업 후 첫 월급이라 정말 기쁘시겠어요.   \n",
       "4           기분 좋으시겠어요. 앞으로는 어떻게 하실 생각이신가요?   \n",
       "\n",
       "                                               사람문장2  \\\n",
       "0                                      아 지금 정말 신이 나.   \n",
       "1                        건강할 때 관리 좀 잘할걸 하는 생각이 들더라고.   \n",
       "2                  아직 학기 초인데 내가 수업에 잘 따라갈 수 있을지 걱정돼.   \n",
       "3  퇴직 후 다시는 돈을 못 벌 줄 알았는데 이렇게 월급으로 가족에게 맛있는 밥을 살 ...   \n",
       "4                  빚도 다 갚았으니 당분간은 아무 생각도 안 하며 살고 싶어.   \n",
       "\n",
       "                                 시스템응답2                               사람문장3  \\\n",
       "0                             잘 된 일이네요.  아기가 점점 클게 벌써 기대가 되네. 내가 많이 놀아줘야지.    \n",
       "1         현재 상황에서 변화를 주기 위해 어떻게 하면 될까요?          약을 잘 챙겨 먹고 나을 수 있도록 노력해야지.   \n",
       "2           이 상황에서 할 수 있는 게 어떤 것이 있을까요?       중학교 수업을 들을 때보다 훨씬 더 열심히 할 거야.   \n",
       "3               이 기분을 유지하려면 어떻게 해야 할까요?           회사생활을 열심히 해서 계속 월급을 받을거야!   \n",
       "4  빚도 다 갚았으니 당분간은 아무 생각도 안 하며 살고 싶으시군요.                                 NaN   \n",
       "\n",
       "                         시스템응답3                                      사람문장4  \\\n",
       "0  좋은 아빠가 되실 거 같아요. 진심으로 축하드려요.                                        NaN   \n",
       "1       약을 잘 챙겨 먹어 건강해지시길 바랄게요.                                        NaN   \n",
       "2    수업을 어떤 방식으로 열심히 듣는게 좋을까요?   선생님이 강조하신 부분을 필기하고 집에서 매일 수업 내용을 복습하려고 해.   \n",
       "3   계속 원하시는 대로 회사생활이 이어지길 바랄게요.                                        NaN   \n",
       "4                           NaN                                        NaN   \n",
       "\n",
       "                     시스템응답4  \n",
       "0                       NaN  \n",
       "1                       NaN  \n",
       "2  열심히 해서 좋은 결과가 있었으면 좋겠어요.  \n",
       "3                       NaN  \n",
       "4                       NaN  "
      ]
     },
     "execution_count": 22,
     "metadata": {},
     "output_type": "execute_result"
    }
   ],
   "source": [
    "df.head()"
   ]
  },
  {
   "cell_type": "code",
   "execution_count": 23,
   "id": "993927db",
   "metadata": {},
   "outputs": [
    {
     "data": {
      "text/plain": [
       "번호            0\n",
       "연령            0\n",
       "성별            0\n",
       "상황키워드         0\n",
       "신체질환          0\n",
       "감정_대분류        0\n",
       "감정_소분류        0\n",
       "사람문장1         0\n",
       "시스템응답1        0\n",
       "사람문장2         0\n",
       "시스템응답2        0\n",
       "사람문장3      9820\n",
       "시스템응답3     9820\n",
       "사람문장4     39407\n",
       "시스템응답4    39517\n",
       "dtype: int64"
      ]
     },
     "execution_count": 23,
     "metadata": {},
     "output_type": "execute_result"
    }
   ],
   "source": [
    "df.isnull().sum()"
   ]
  },
  {
   "cell_type": "code",
   "execution_count": 24,
   "id": "71bc918e",
   "metadata": {},
   "outputs": [
    {
     "name": "stdout",
     "output_type": "stream",
     "text": [
      "['청년' '노년' '청소년' '중년']\n",
      "['남성' '여성']\n",
      "['연애, 결혼, 출산' '건강, 죽음' '학업 및 진로' '재정' '재정, 은퇴, 노후준비' '건강' '학교폭력/따돌림'\n",
      " '대인관계' '진로, 취업, 직장' '가족관계' '직장, 업무 스트레스' '대인관계(부부, 자녀)']\n",
      "['해당없음' '만성질환 유' '만성질환 무']\n",
      "['기쁨' '불안' '당황' '슬픔' '분노' '상처' '불안 ' '기쁨 ']\n",
      "['신이 난' '스트레스 받는' '당황' '안도' '취약한' '우울한' '구역질 나는' '좌절한' '눈물이 나는' '배신당한'\n",
      " '남의 시선을 의식하는' '죄책감의' '당혹스러운' '분노' '두려운' '낙담한' '회의적인' '마비된' '혼란스러운' '흥분'\n",
      " '한심한' '염세적인' '안달하는' '걱정스러운' '조심스러운' '충격 받은' '상처' '불안' '노여워하는' '기쁨' '짜증내는'\n",
      " '환멸을 느끼는' '비통한' '혐오스러운' '억울한' '만족스러운' '부끄러운' '버려진' '고립된' '괴로워하는' '자신하는'\n",
      " '외로운' '방어적인' '편안한' '질투하는' '감사하는' '초조한' '실망한' '슬픔' '신뢰하는' '가난한, 불우한'\n",
      " '후회되는' '툴툴대는' '성가신' '열등감' '희생된' '느긋' '악의적인']\n"
     ]
    }
   ],
   "source": [
    "print(df['연령'].unique()) # LabelEncoding\n",
    "print(df['성별'].unique()) # LabelEncoding\n",
    "print(df['상황키워드'].unique()) \n",
    "print(df['신체질환'].unique()) # LabelEncoding\n",
    "print(df['감정_대분류'].unique()) # '불안 ', '기쁨 ' -> '불안', '기쁨' && LabelEncoding\n",
    "print(df['감정_소분류'].unique()) # dropna"
   ]
  },
  {
   "cell_type": "markdown",
   "id": "6534af2c",
   "metadata": {},
   "source": [
    "# LabelEncoding, drop, value값 변경"
   ]
  },
  {
   "cell_type": "markdown",
   "id": "ccbf5303",
   "metadata": {},
   "source": [
    "- 연령 - 0 노년 / 1 중년 / 2 청년 / 3 청소년\n",
    "\n",
    "- 성별 - 0 남성 / 1 여성\n",
    "\n",
    "- 신체질환 - 0 만성질환 무 / 1 만성질환 유 / 2 해당없음\n",
    "- 감정_대분류 - 0 기쁨 / 1 당황 / 2 분노 / 3 불안 / 4 상처 / 5 슬픔"
   ]
  },
  {
   "cell_type": "code",
   "execution_count": 44,
   "id": "87069590",
   "metadata": {},
   "outputs": [],
   "source": [
    "df = df.drop(['감정_소분류'], axis=1)"
   ]
  },
  {
   "cell_type": "code",
   "execution_count": 45,
   "id": "db2e2b5d",
   "metadata": {},
   "outputs": [],
   "source": [
    "# 감정_대분류 : '불안 ', '기쁨 ' -> '불안', '기쁨'\n",
    "df.loc[df['감정_대분류'] == '기쁨 ', '감정_대분류'] = '기쁨'\n",
    "df.loc[df['감정_대분류'] == '불안 ', '감정_대분류'] = '불안'"
   ]
  },
  {
   "cell_type": "code",
   "execution_count": 38,
   "id": "9f7f08a1",
   "metadata": {},
   "outputs": [],
   "source": [
    "# # LabelEncoding\n",
    "# encoder = LabelEncoder()\n",
    "\n",
    "# encoder.fit(df['연령'])\n",
    "# label_encoded1 = encoder.transform(df['연령'])\n",
    "\n",
    "# encoder.fit(df['성별'])\n",
    "# label_encoded2 = encoder.transform(df['성별'])\n",
    "\n",
    "# encoder.fit(df['신체질환'])\n",
    "# label_encoded3 = encoder.transform(df['신체질환'])\n",
    "\n",
    "# encoder.fit(df['감정_대분류'])\n",
    "# label_encoded4 = encoder.transform(df['감정_대분류'])\n",
    "\n",
    "# df['연령'] = label_encoded1\n",
    "# df['성별'] = label_encoded2\n",
    "# df['신체질환'] = label_encoded3\n",
    "# df['감정_대분류'] = label_encoded4"
   ]
  },
  {
   "cell_type": "code",
   "execution_count": 46,
   "id": "2da162e0",
   "metadata": {},
   "outputs": [
    {
     "data": {
      "text/html": [
       "<div>\n",
       "<style scoped>\n",
       "    .dataframe tbody tr th:only-of-type {\n",
       "        vertical-align: middle;\n",
       "    }\n",
       "\n",
       "    .dataframe tbody tr th {\n",
       "        vertical-align: top;\n",
       "    }\n",
       "\n",
       "    .dataframe thead th {\n",
       "        text-align: right;\n",
       "    }\n",
       "</style>\n",
       "<table border=\"1\" class=\"dataframe\">\n",
       "  <thead>\n",
       "    <tr style=\"text-align: right;\">\n",
       "      <th></th>\n",
       "      <th>번호</th>\n",
       "      <th>연령</th>\n",
       "      <th>성별</th>\n",
       "      <th>상황키워드</th>\n",
       "      <th>신체질환</th>\n",
       "      <th>감정_대분류</th>\n",
       "      <th>사람문장1</th>\n",
       "      <th>시스템응답1</th>\n",
       "      <th>사람문장2</th>\n",
       "      <th>시스템응답2</th>\n",
       "      <th>사람문장3</th>\n",
       "      <th>시스템응답3</th>\n",
       "      <th>사람문장4</th>\n",
       "      <th>시스템응답4</th>\n",
       "    </tr>\n",
       "  </thead>\n",
       "  <tbody>\n",
       "    <tr>\n",
       "      <th>0</th>\n",
       "      <td>44164</td>\n",
       "      <td>청년</td>\n",
       "      <td>남성</td>\n",
       "      <td>연애, 결혼, 출산</td>\n",
       "      <td>해당없음</td>\n",
       "      <td>기쁨</td>\n",
       "      <td>아내가 드디어 출산하게 되어서 정말 신이 나.</td>\n",
       "      <td>아내분이 출산을 하시는군요. 정말 축하드려요.</td>\n",
       "      <td>아 지금 정말 신이 나.</td>\n",
       "      <td>잘 된 일이네요.</td>\n",
       "      <td>아기가 점점 클게 벌써 기대가 되네. 내가 많이 놀아줘야지.</td>\n",
       "      <td>좋은 아빠가 되실 거 같아요. 진심으로 축하드려요.</td>\n",
       "      <td>NaN</td>\n",
       "      <td>NaN</td>\n",
       "    </tr>\n",
       "    <tr>\n",
       "      <th>1</th>\n",
       "      <td>3926</td>\n",
       "      <td>노년</td>\n",
       "      <td>남성</td>\n",
       "      <td>건강, 죽음</td>\n",
       "      <td>만성질환 유</td>\n",
       "      <td>불안</td>\n",
       "      <td>당뇨랑 합병증 때문에 먹어야 할 약이 열 가지가 넘어가니까 스트레스야.</td>\n",
       "      <td>약 종류가 많아 번거로우시겠어요.</td>\n",
       "      <td>건강할 때 관리 좀 잘할걸 하는 생각이 들더라고.</td>\n",
       "      <td>현재 상황에서 변화를 주기 위해 어떻게 하면 될까요?</td>\n",
       "      <td>약을 잘 챙겨 먹고 나을 수 있도록 노력해야지.</td>\n",
       "      <td>약을 잘 챙겨 먹어 건강해지시길 바랄게요.</td>\n",
       "      <td>NaN</td>\n",
       "      <td>NaN</td>\n",
       "    </tr>\n",
       "    <tr>\n",
       "      <th>2</th>\n",
       "      <td>50882</td>\n",
       "      <td>청소년</td>\n",
       "      <td>여성</td>\n",
       "      <td>학업 및 진로</td>\n",
       "      <td>해당없음</td>\n",
       "      <td>당황</td>\n",
       "      <td>고등학교에 올라오니 중학교 때보다 수업이 갑자기 어려워져서 당황스러워.</td>\n",
       "      <td>고등학교 수업이 중학교 때와는 다르게 갑자기 어려워서 당황스러우시군요.</td>\n",
       "      <td>아직 학기 초인데 내가 수업에 잘 따라갈 수 있을지 걱정돼.</td>\n",
       "      <td>이 상황에서 할 수 있는 게 어떤 것이 있을까요?</td>\n",
       "      <td>중학교 수업을 들을 때보다 훨씬 더 열심히 할 거야.</td>\n",
       "      <td>수업을 어떤 방식으로 열심히 듣는게 좋을까요?</td>\n",
       "      <td>선생님이 강조하신 부분을 필기하고 집에서 매일 수업 내용을 복습하려고 해.</td>\n",
       "      <td>열심히 해서 좋은 결과가 있었으면 좋겠어요.</td>\n",
       "    </tr>\n",
       "    <tr>\n",
       "      <th>3</th>\n",
       "      <td>31303</td>\n",
       "      <td>노년</td>\n",
       "      <td>남성</td>\n",
       "      <td>재정</td>\n",
       "      <td>만성질환 무</td>\n",
       "      <td>기쁨</td>\n",
       "      <td>재취업이 돼서 받게 된 첫 월급으로 온 가족이 외식을 할 예정이야. 너무 행복해.</td>\n",
       "      <td>재취업 후 첫 월급이라 정말 기쁘시겠어요.</td>\n",
       "      <td>퇴직 후 다시는 돈을 못 벌 줄 알았는데 이렇게 월급으로 가족에게 맛있는 밥을 살 ...</td>\n",
       "      <td>이 기분을 유지하려면 어떻게 해야 할까요?</td>\n",
       "      <td>회사생활을 열심히 해서 계속 월급을 받을거야!</td>\n",
       "      <td>계속 원하시는 대로 회사생활이 이어지길 바랄게요.</td>\n",
       "      <td>NaN</td>\n",
       "      <td>NaN</td>\n",
       "    </tr>\n",
       "    <tr>\n",
       "      <th>4</th>\n",
       "      <td>47200</td>\n",
       "      <td>노년</td>\n",
       "      <td>여성</td>\n",
       "      <td>재정</td>\n",
       "      <td>만성질환 유</td>\n",
       "      <td>기쁨</td>\n",
       "      <td>빚을 드디어 다 갚게 되어서 이제야 안도감이 들어.</td>\n",
       "      <td>기분 좋으시겠어요. 앞으로는 어떻게 하실 생각이신가요?</td>\n",
       "      <td>빚도 다 갚았으니 당분간은 아무 생각도 안 하며 살고 싶어.</td>\n",
       "      <td>빚도 다 갚았으니 당분간은 아무 생각도 안 하며 살고 싶으시군요.</td>\n",
       "      <td>NaN</td>\n",
       "      <td>NaN</td>\n",
       "      <td>NaN</td>\n",
       "      <td>NaN</td>\n",
       "    </tr>\n",
       "  </tbody>\n",
       "</table>\n",
       "</div>"
      ],
      "text/plain": [
       "      번호   연령  성별       상황키워드    신체질환 감정_대분류  \\\n",
       "0  44164   청년  남성  연애, 결혼, 출산    해당없음     기쁨   \n",
       "1   3926   노년  남성      건강, 죽음  만성질환 유     불안   \n",
       "2  50882  청소년  여성     학업 및 진로    해당없음     당황   \n",
       "3  31303   노년  남성          재정  만성질환 무     기쁨   \n",
       "4  47200   노년  여성          재정  만성질환 유     기쁨   \n",
       "\n",
       "                                           사람문장1  \\\n",
       "0                      아내가 드디어 출산하게 되어서 정말 신이 나.   \n",
       "1        당뇨랑 합병증 때문에 먹어야 할 약이 열 가지가 넘어가니까 스트레스야.   \n",
       "2        고등학교에 올라오니 중학교 때보다 수업이 갑자기 어려워져서 당황스러워.   \n",
       "3  재취업이 돼서 받게 된 첫 월급으로 온 가족이 외식을 할 예정이야. 너무 행복해.   \n",
       "4                   빚을 드디어 다 갚게 되어서 이제야 안도감이 들어.   \n",
       "\n",
       "                                    시스템응답1  \\\n",
       "0                아내분이 출산을 하시는군요. 정말 축하드려요.   \n",
       "1                       약 종류가 많아 번거로우시겠어요.   \n",
       "2  고등학교 수업이 중학교 때와는 다르게 갑자기 어려워서 당황스러우시군요.   \n",
       "3                  재취업 후 첫 월급이라 정말 기쁘시겠어요.   \n",
       "4           기분 좋으시겠어요. 앞으로는 어떻게 하실 생각이신가요?   \n",
       "\n",
       "                                               사람문장2  \\\n",
       "0                                      아 지금 정말 신이 나.   \n",
       "1                        건강할 때 관리 좀 잘할걸 하는 생각이 들더라고.   \n",
       "2                  아직 학기 초인데 내가 수업에 잘 따라갈 수 있을지 걱정돼.   \n",
       "3  퇴직 후 다시는 돈을 못 벌 줄 알았는데 이렇게 월급으로 가족에게 맛있는 밥을 살 ...   \n",
       "4                  빚도 다 갚았으니 당분간은 아무 생각도 안 하며 살고 싶어.   \n",
       "\n",
       "                                 시스템응답2                               사람문장3  \\\n",
       "0                             잘 된 일이네요.  아기가 점점 클게 벌써 기대가 되네. 내가 많이 놀아줘야지.    \n",
       "1         현재 상황에서 변화를 주기 위해 어떻게 하면 될까요?          약을 잘 챙겨 먹고 나을 수 있도록 노력해야지.   \n",
       "2           이 상황에서 할 수 있는 게 어떤 것이 있을까요?       중학교 수업을 들을 때보다 훨씬 더 열심히 할 거야.   \n",
       "3               이 기분을 유지하려면 어떻게 해야 할까요?           회사생활을 열심히 해서 계속 월급을 받을거야!   \n",
       "4  빚도 다 갚았으니 당분간은 아무 생각도 안 하며 살고 싶으시군요.                                 NaN   \n",
       "\n",
       "                         시스템응답3                                      사람문장4  \\\n",
       "0  좋은 아빠가 되실 거 같아요. 진심으로 축하드려요.                                        NaN   \n",
       "1       약을 잘 챙겨 먹어 건강해지시길 바랄게요.                                        NaN   \n",
       "2    수업을 어떤 방식으로 열심히 듣는게 좋을까요?   선생님이 강조하신 부분을 필기하고 집에서 매일 수업 내용을 복습하려고 해.   \n",
       "3   계속 원하시는 대로 회사생활이 이어지길 바랄게요.                                        NaN   \n",
       "4                           NaN                                        NaN   \n",
       "\n",
       "                     시스템응답4  \n",
       "0                       NaN  \n",
       "1                       NaN  \n",
       "2  열심히 해서 좋은 결과가 있었으면 좋겠어요.  \n",
       "3                       NaN  \n",
       "4                       NaN  "
      ]
     },
     "execution_count": 46,
     "metadata": {},
     "output_type": "execute_result"
    }
   ],
   "source": [
    "df.head()"
   ]
  },
  {
   "cell_type": "markdown",
   "id": "d5e56528",
   "metadata": {},
   "source": [
    "df.dtypes"
   ]
  },
  {
   "cell_type": "markdown",
   "id": "9e11d3be",
   "metadata": {},
   "source": [
    "# 사람문장, 시스템응답 컬럼 제외하고 Visualization"
   ]
  },
  {
   "cell_type": "code",
   "execution_count": 47,
   "id": "284428f2",
   "metadata": {},
   "outputs": [],
   "source": [
    "df_info = df.copy()\n",
    "df_info.drop(['사람문장1', '시스템응답1', '사람문장2', '시스템응답2', '사람문장3', '시스템응답3', '사람문장4', '시스템응답4'], \n",
    "             axis=1, inplace=True)"
   ]
  },
  {
   "cell_type": "code",
   "execution_count": 48,
   "id": "c4796342",
   "metadata": {},
   "outputs": [
    {
     "data": {
      "text/html": [
       "<div>\n",
       "<style scoped>\n",
       "    .dataframe tbody tr th:only-of-type {\n",
       "        vertical-align: middle;\n",
       "    }\n",
       "\n",
       "    .dataframe tbody tr th {\n",
       "        vertical-align: top;\n",
       "    }\n",
       "\n",
       "    .dataframe thead th {\n",
       "        text-align: right;\n",
       "    }\n",
       "</style>\n",
       "<table border=\"1\" class=\"dataframe\">\n",
       "  <thead>\n",
       "    <tr style=\"text-align: right;\">\n",
       "      <th></th>\n",
       "      <th>번호</th>\n",
       "      <th>연령</th>\n",
       "      <th>성별</th>\n",
       "      <th>상황키워드</th>\n",
       "      <th>신체질환</th>\n",
       "      <th>감정_대분류</th>\n",
       "    </tr>\n",
       "  </thead>\n",
       "  <tbody>\n",
       "    <tr>\n",
       "      <th>0</th>\n",
       "      <td>44164</td>\n",
       "      <td>청년</td>\n",
       "      <td>남성</td>\n",
       "      <td>연애, 결혼, 출산</td>\n",
       "      <td>해당없음</td>\n",
       "      <td>기쁨</td>\n",
       "    </tr>\n",
       "    <tr>\n",
       "      <th>1</th>\n",
       "      <td>3926</td>\n",
       "      <td>노년</td>\n",
       "      <td>남성</td>\n",
       "      <td>건강, 죽음</td>\n",
       "      <td>만성질환 유</td>\n",
       "      <td>불안</td>\n",
       "    </tr>\n",
       "    <tr>\n",
       "      <th>2</th>\n",
       "      <td>50882</td>\n",
       "      <td>청소년</td>\n",
       "      <td>여성</td>\n",
       "      <td>학업 및 진로</td>\n",
       "      <td>해당없음</td>\n",
       "      <td>당황</td>\n",
       "    </tr>\n",
       "    <tr>\n",
       "      <th>3</th>\n",
       "      <td>31303</td>\n",
       "      <td>노년</td>\n",
       "      <td>남성</td>\n",
       "      <td>재정</td>\n",
       "      <td>만성질환 무</td>\n",
       "      <td>기쁨</td>\n",
       "    </tr>\n",
       "    <tr>\n",
       "      <th>4</th>\n",
       "      <td>47200</td>\n",
       "      <td>노년</td>\n",
       "      <td>여성</td>\n",
       "      <td>재정</td>\n",
       "      <td>만성질환 유</td>\n",
       "      <td>기쁨</td>\n",
       "    </tr>\n",
       "    <tr>\n",
       "      <th>...</th>\n",
       "      <td>...</td>\n",
       "      <td>...</td>\n",
       "      <td>...</td>\n",
       "      <td>...</td>\n",
       "      <td>...</td>\n",
       "      <td>...</td>\n",
       "    </tr>\n",
       "    <tr>\n",
       "      <th>40874</th>\n",
       "      <td>50789</td>\n",
       "      <td>청년</td>\n",
       "      <td>남성</td>\n",
       "      <td>대인관계</td>\n",
       "      <td>해당없음</td>\n",
       "      <td>불안</td>\n",
       "    </tr>\n",
       "    <tr>\n",
       "      <th>40875</th>\n",
       "      <td>48959</td>\n",
       "      <td>중년</td>\n",
       "      <td>남성</td>\n",
       "      <td>건강</td>\n",
       "      <td>해당없음</td>\n",
       "      <td>기쁨</td>\n",
       "    </tr>\n",
       "    <tr>\n",
       "      <th>40876</th>\n",
       "      <td>36344</td>\n",
       "      <td>청소년</td>\n",
       "      <td>여성</td>\n",
       "      <td>가족관계</td>\n",
       "      <td>해당없음</td>\n",
       "      <td>슬픔</td>\n",
       "    </tr>\n",
       "    <tr>\n",
       "      <th>40877</th>\n",
       "      <td>14197</td>\n",
       "      <td>노년</td>\n",
       "      <td>여성</td>\n",
       "      <td>재정</td>\n",
       "      <td>만성질환 무</td>\n",
       "      <td>기쁨</td>\n",
       "    </tr>\n",
       "    <tr>\n",
       "      <th>40878</th>\n",
       "      <td>16248</td>\n",
       "      <td>청년</td>\n",
       "      <td>남성</td>\n",
       "      <td>대인관계</td>\n",
       "      <td>해당없음</td>\n",
       "      <td>불안</td>\n",
       "    </tr>\n",
       "  </tbody>\n",
       "</table>\n",
       "<p>40879 rows × 6 columns</p>\n",
       "</div>"
      ],
      "text/plain": [
       "          번호   연령  성별       상황키워드    신체질환 감정_대분류\n",
       "0      44164   청년  남성  연애, 결혼, 출산    해당없음     기쁨\n",
       "1       3926   노년  남성      건강, 죽음  만성질환 유     불안\n",
       "2      50882  청소년  여성     학업 및 진로    해당없음     당황\n",
       "3      31303   노년  남성          재정  만성질환 무     기쁨\n",
       "4      47200   노년  여성          재정  만성질환 유     기쁨\n",
       "...      ...  ...  ..         ...     ...    ...\n",
       "40874  50789   청년  남성        대인관계    해당없음     불안\n",
       "40875  48959   중년  남성          건강    해당없음     기쁨\n",
       "40876  36344  청소년  여성        가족관계    해당없음     슬픔\n",
       "40877  14197   노년  여성          재정  만성질환 무     기쁨\n",
       "40878  16248   청년  남성        대인관계    해당없음     불안\n",
       "\n",
       "[40879 rows x 6 columns]"
      ]
     },
     "execution_count": 48,
     "metadata": {},
     "output_type": "execute_result"
    }
   ],
   "source": [
    "df_info"
   ]
  },
  {
   "cell_type": "code",
   "execution_count": 69,
   "id": "659d0898",
   "metadata": {},
   "outputs": [],
   "source": [
    "age_group = df_info['연령'].unique()\n",
    "age_group_count = df_info['연령'].value_counts(sort=False)\n",
    "\n",
    "gender = df_info['성별'].unique()\n",
    "gender_count = df_info['성별'].value_counts(sort=False)\n",
    "\n",
    "disease = df_info['신체질환'].unique()\n",
    "disease_count = df_info['신체질환'].value_counts(sort=False)\n",
    "\n",
    "emotion = df_info['감정_대분류'].unique()\n",
    "emotion_count = df_info['감정_대분류'].value_counts(sort=False)"
   ]
  },
  {
   "cell_type": "code",
   "execution_count": 70,
   "id": "a7edc397",
   "metadata": {},
   "outputs": [
    {
     "name": "stdout",
     "output_type": "stream",
     "text": [
      "['청년' '노년' '청소년' '중년']\n",
      "청년     12505\n",
      "노년     10150\n",
      "청소년     7339\n",
      "중년     10885\n",
      "Name: 연령, dtype: int64\n"
     ]
    },
    {
     "data": {
      "image/png": "[encoded data removed]",
      "text/plain": [
       "<Figure size 432x288 with 1 Axes>"
      ]
     },
     "metadata": {
      "needs_background": "light"
     },
     "output_type": "display_data"
    },
    {
     "name": "stdout",
     "output_type": "stream",
     "text": [
      "['남성' '여성']\n",
      "남성    18160\n",
      "여성    22719\n",
      "Name: 성별, dtype: int64\n"
     ]
    },
    {
     "data": {
      "image/png": "[encoded data removed]",
      "text/plain": [
       "<Figure size 432x288 with 1 Axes>"
      ]
     },
     "metadata": {
      "needs_background": "light"
     },
     "output_type": "display_data"
    },
    {
     "name": "stdout",
     "output_type": "stream",
     "text": [
      "['해당없음' '만성질환 유' '만성질환 무']\n",
      "해당없음      30729\n",
      "만성질환 유     4962\n",
      "만성질환 무     5188\n",
      "Name: 신체질환, dtype: int64\n"
     ]
    },
    {
     "data": {
      "image/png": "[encoded data removed]",
      "text/plain": [
       "<Figure size 432x288 with 1 Axes>"
      ]
     },
     "metadata": {
      "needs_background": "light"
     },
     "output_type": "display_data"
    },
    {
     "name": "stdout",
     "output_type": "stream",
     "text": [
      "['기쁨' '불안' '당황' '슬픔' '분노' '상처']\n",
      "기쁨    6731\n",
      "불안    7329\n",
      "당황    6360\n",
      "슬픔    6915\n",
      "분노    6920\n",
      "상처    6624\n",
      "Name: 감정_대분류, dtype: int64\n"
     ]
    },
    {
     "data": {
      "image/png": "[encoded data removed]",
      "text/plain": [
       "<Figure size 432x288 with 1 Axes>"
      ]
     },
     "metadata": {
      "needs_background": "light"
     },
     "output_type": "display_data"
    }
   ],
   "source": [
    "print(age_group)\n",
    "print(age_group_count)\n",
    "plt.bar(age_group, age_group_count)\n",
    "plt.show()\n",
    "\n",
    "print(gender)\n",
    "print(gender_count)\n",
    "plt.bar(gender, gender_count)\n",
    "plt.show()\n",
    "\n",
    "print(disease)\n",
    "print(disease_count)\n",
    "plt.bar(disease, disease_count)\n",
    "plt.show()\n",
    "\n",
    "print(emotion)\n",
    "print(emotion_count)\n",
    "plt.bar(emotion, emotion_count)\n",
    "plt.show()"
   ]
  },
  {
   "cell_type": "markdown",
   "id": "2035f6ba",
   "metadata": {},
   "source": [
    "### 연령"
   ]
  },
  {
   "cell_type": "code",
   "execution_count": 121,
   "id": "70b043f3",
   "metadata": {},
   "outputs": [
    {
     "name": "stdout",
     "output_type": "stream",
     "text": [
      "[2034, 2199, 1981, 2099, 2113, 2079]\n",
      "[1716, 1818, 1613, 1749, 1623, 1631]\n",
      "[1144, 1258, 1097, 1274, 1333, 1233]\n",
      "[1837, 2054, 1669, 1793, 1851, 1681]\n"
     ]
    },
    {
     "data": {
      "image/png": "[encoded data removed]",
      "text/plain": [
       "<Figure size 432x288 with 1 Axes>"
      ]
     },
     "metadata": {
      "needs_background": "light"
     },
     "output_type": "display_data"
    }
   ],
   "source": [
    "emotion_age0_count = [len(df_info[(df['감정_대분류']=='기쁨')&(df_info['연령']=='청년')]), \n",
    "                     len(df_info[(df['감정_대분류']=='불안')&(df_info['연령']=='청년')]), \n",
    "                     len(df_info[(df['감정_대분류']=='당황')&(df_info['연령']=='청년')]), \n",
    "                     len(df_info[(df['감정_대분류']=='슬픔')&(df_info['연령']=='청년')]), \n",
    "                     len(df_info[(df['감정_대분류']=='분노')&(df_info['연령']=='청년')]), \n",
    "                     len(df_info[(df['감정_대분류']=='상처')&(df_info['연령']=='청년')])]\n",
    "\n",
    "emotion_age1_count = [len(df_info[(df['감정_대분류']=='기쁨')&(df_info['연령']=='노년')]), \n",
    "                     len(df_info[(df['감정_대분류']=='불안')&(df_info['연령']=='노년')]), \n",
    "                     len(df_info[(df['감정_대분류']=='당황')&(df_info['연령']=='노년')]), \n",
    "                     len(df_info[(df['감정_대분류']=='슬픔')&(df_info['연령']=='노년')]), \n",
    "                     len(df_info[(df['감정_대분류']=='분노')&(df_info['연령']=='노년')]), \n",
    "                     len(df_info[(df['감정_대분류']=='상처')&(df_info['연령']=='노년')])]\n",
    "\n",
    "emotion_age2_count = [len(df_info[(df['감정_대분류']=='기쁨')&(df_info['연령']=='청소년')]), \n",
    "                     len(df_info[(df['감정_대분류']=='불안')&(df_info['연령']=='청소년')]), \n",
    "                     len(df_info[(df['감정_대분류']=='당황')&(df_info['연령']=='청소년')]), \n",
    "                     len(df_info[(df['감정_대분류']=='슬픔')&(df_info['연령']=='청소년')]), \n",
    "                     len(df_info[(df['감정_대분류']=='분노')&(df_info['연령']=='청소년')]), \n",
    "                     len(df_info[(df['감정_대분류']=='상처')&(df_info['연령']=='청소년')])]\n",
    "\n",
    "emotion_age3_count = [len(df_info[(df['감정_대분류']=='기쁨')&(df_info['연령']=='중년')]), \n",
    "                     len(df_info[(df['감정_대분류']=='불안')&(df_info['연령']=='중년')]), \n",
    "                     len(df_info[(df['감정_대분류']=='당황')&(df_info['연령']=='중년')]), \n",
    "                     len(df_info[(df['감정_대분류']=='슬픔')&(df_info['연령']=='중년')]), \n",
    "                     len(df_info[(df['감정_대분류']=='분노')&(df_info['연령']=='중년')]), \n",
    "                     len(df_info[(df['감정_대분류']=='상처')&(df_info['연령']=='중년')])]\n",
    "\n",
    "print(emotion_age0_count)\n",
    "print(emotion_age1_count)\n",
    "print(emotion_age2_count)\n",
    "print(emotion_age3_count)\n",
    "\n",
    "X = np.arange(len(emotion))\n",
    "plt.bar(X+0.00, emotion_age0_count, width=0.20)\n",
    "plt.bar(X+0.20, emotion_age1_count, width=0.20)\n",
    "plt.bar(X+0.40, emotion_age2_count, width=0.20)\n",
    "plt.bar(X+0.60, emotion_age3_count, width=0.20)\n",
    "plt.show()"
   ]
  },
  {
   "cell_type": "markdown",
   "id": "fe7054df",
   "metadata": {},
   "source": [
    "### 성별"
   ]
  },
  {
   "cell_type": "code",
   "execution_count": 122,
   "id": "738951aa",
   "metadata": {},
   "outputs": [
    {
     "name": "stdout",
     "output_type": "stream",
     "text": [
      "[2908, 3240, 2767, 3163, 3232, 2850]\n",
      "[3823, 4089, 3593, 3752, 3688, 3774]\n"
     ]
    },
    {
     "data": {
      "image/png": "[encoded data removed]",
      "text/plain": [
       "<Figure size 432x288 with 1 Axes>"
      ]
     },
     "metadata": {
      "needs_background": "light"
     },
     "output_type": "display_data"
    }
   ],
   "source": [
    "emotion_male_count = [len(df_info[(df['감정_대분류']=='기쁨')&(df_info['성별']=='남성')]), \n",
    "                     len(df_info[(df['감정_대분류']=='불안')&(df_info['성별']=='남성')]), \n",
    "                     len(df_info[(df['감정_대분류']=='당황')&(df_info['성별']=='남성')]), \n",
    "                     len(df_info[(df['감정_대분류']=='슬픔')&(df_info['성별']=='남성')]), \n",
    "                     len(df_info[(df['감정_대분류']=='분노')&(df_info['성별']=='남성')]), \n",
    "                     len(df_info[(df['감정_대분류']=='상처')&(df_info['성별']=='남성')])]\n",
    "\n",
    "emotion_female_count = [len(df_info[(df['감정_대분류']=='기쁨')&(df_info['성별']=='여성')]), \n",
    "                     len(df_info[(df['감정_대분류']=='불안')&(df_info['성별']=='여성')]), \n",
    "                     len(df_info[(df['감정_대분류']=='당황')&(df_info['성별']=='여성')]), \n",
    "                     len(df_info[(df['감정_대분류']=='슬픔')&(df_info['성별']=='여성')]), \n",
    "                     len(df_info[(df['감정_대분류']=='분노')&(df_info['성별']=='여성')]), \n",
    "                     len(df_info[(df['감정_대분류']=='상처')&(df_info['성별']=='여성')])]\n",
    "\n",
    "print(emotion_male_count)\n",
    "print(emotion_female_count)\n",
    "\n",
    "X = np.arange(len(emotion))\n",
    "plt.bar(X+0.00, emotion_male_count, width=0.25)\n",
    "plt.bar(X+0.25, emotion_female_count, width=0.25)\n",
    "plt.show()"
   ]
  },
  {
   "cell_type": "markdown",
   "id": "e987e431",
   "metadata": {},
   "source": [
    "### 신체질환"
   ]
  },
  {
   "cell_type": "code",
   "execution_count": 123,
   "id": "7f3f9ff8",
   "metadata": {},
   "outputs": [
    {
     "name": "stdout",
     "output_type": "stream",
     "text": [
      "[5015, 5511, 4747, 5166, 5297, 4993]\n",
      "[806, 881, 786, 887, 822, 780]\n",
      "[910, 937, 827, 862, 801, 851]\n"
     ]
    },
    {
     "data": {
      "image/png": "[encoded data removed]",
      "text/plain": [
       "<Figure size 432x288 with 1 Axes>"
      ]
     },
     "metadata": {
      "needs_background": "light"
     },
     "output_type": "display_data"
    }
   ],
   "source": [
    "emotion_disease0_count = [len(df_info[(df['감정_대분류']=='기쁨')&(df_info['신체질환']=='해당없음')]), \n",
    "                     len(df_info[(df['감정_대분류']=='불안')&(df_info['신체질환']=='해당없음')]), \n",
    "                     len(df_info[(df['감정_대분류']=='당황')&(df_info['신체질환']=='해당없음')]), \n",
    "                     len(df_info[(df['감정_대분류']=='슬픔')&(df_info['신체질환']=='해당없음')]), \n",
    "                     len(df_info[(df['감정_대분류']=='분노')&(df_info['신체질환']=='해당없음')]), \n",
    "                     len(df_info[(df['감정_대분류']=='상처')&(df_info['신체질환']=='해당없음')])]\n",
    "\n",
    "emotion_disease1_count = [len(df_info[(df['감정_대분류']=='기쁨')&(df_info['신체질환']=='만성질환 유')]), \n",
    "                     len(df_info[(df['감정_대분류']=='불안')&(df_info['신체질환']=='만성질환 유')]), \n",
    "                     len(df_info[(df['감정_대분류']=='당황')&(df_info['신체질환']=='만성질환 유')]), \n",
    "                     len(df_info[(df['감정_대분류']=='슬픔')&(df_info['신체질환']=='만성질환 유')]), \n",
    "                     len(df_info[(df['감정_대분류']=='분노')&(df_info['신체질환']=='만성질환 유')]), \n",
    "                     len(df_info[(df['감정_대분류']=='상처')&(df_info['신체질환']=='만성질환 유')])]\n",
    "\n",
    "emotion_disease2_count = [len(df_info[(df['감정_대분류']=='기쁨')&(df_info['신체질환']=='만성질환 무')]), \n",
    "                     len(df_info[(df['감정_대분류']=='불안')&(df_info['신체질환']=='만성질환 무')]), \n",
    "                     len(df_info[(df['감정_대분류']=='당황')&(df_info['신체질환']=='만성질환 무')]), \n",
    "                     len(df_info[(df['감정_대분류']=='슬픔')&(df_info['신체질환']=='만성질환 무')]), \n",
    "                     len(df_info[(df['감정_대분류']=='분노')&(df_info['신체질환']=='만성질환 무')]), \n",
    "                     len(df_info[(df['감정_대분류']=='상처')&(df_info['신체질환']=='만성질환 무')])]\n",
    "\n",
    "print(emotion_disease0_count)\n",
    "print(emotion_disease1_count)\n",
    "print(emotion_disease2_count)\n",
    "\n",
    "X = np.arange(len(emotion))\n",
    "plt.bar(X+0.00, emotion_disease0_count, width=0.20)\n",
    "plt.bar(X+0.20, emotion_disease1_count, width=0.20)\n",
    "plt.bar(X+0.40, emotion_disease2_count, width=0.20)\n",
    "plt.show()"
   ]
  },
  {
   "cell_type": "markdown",
   "id": "1e71dfd1",
   "metadata": {},
   "source": [
    "<!-- # 감정_대분류를 target value로 봤을 때, \n",
    "# 연령, 성별, 신체질환의 각 value 비중이 맞지 않는 것 같음\n",
    "# => scaling -->"
   ]
  },
  {
   "cell_type": "markdown",
   "id": "8e89bcda",
   "metadata": {},
   "source": [
    "- 감정_대분류를 target value로 봤을 때, \n",
    "- 연령, 성별, 신체질환의 각 value 비중이 맞지 않는 것 같음\n",
    "- => scaling 필요 (standard or minmax)"
   ]
  },
  {
   "cell_type": "markdown",
   "id": "9bea3f80",
   "metadata": {},
   "source": [
    "# 사람문장, 시스템응답 Preprocessing"
   ]
  },
  {
   "cell_type": "code",
   "execution_count": null,
   "id": "80a6d442",
   "metadata": {},
   "outputs": [],
   "source": []
  }
 ],
 "metadata": {
  "kernelspec": {
   "display_name": "j_PychamEnv",
   "language": "python",
   "name": "pycharmenv"
  },
  "language_info": {
   "codemirror_mode": {
    "name": "ipython",
    "version": 3
   },
   "file_extension": ".py",
   "mimetype": "text/x-python",
   "name": "python",
   "nbconvert_exporter": "python",
   "pygments_lexer": "ipython3",
   "version": "3.8.13"
  }
 },
 "nbformat": 4,
 "nbformat_minor": 5
}
