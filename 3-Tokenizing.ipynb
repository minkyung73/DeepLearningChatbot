{
 "cells": [
  {
   "cell_type": "markdown",
   "id": "88d75d94",
   "metadata": {},
   "source": [
    "# 3.2.1 Kkma"
   ]
  },
  {
   "cell_type": "code",
   "execution_count": 6,
   "id": "b3793986",
   "metadata": {},
   "outputs": [],
   "source": [
    "from konlpy.tag import Kkma"
   ]
  },
  {
   "cell_type": "markdown",
   "id": "b1d4b909",
   "metadata": {},
   "source": [
    "### morphs(phrase)\n",
    "- 인자로 입력한 문장을 형태소 단위로 토크나이징\n",
    "- 토크나이징된 형태소들은 리스트 형태로 반환됨\n",
    "\n",
    "### nouns(phrase)\n",
    "- 인자로 입력한 문장에서 품사가 명사인 토큰만 추출\n",
    "\n",
    "### pos(phrase, flatten=True)\n",
    "- POS tagger라 부르며, 인자로 입력한 문장에서 형태소를 추출한 뒤 품사 태깅\n",
    "- 추출된 형태소와 그 형태소의 품사가 튜플 형태로 묶여서 리스트로 반환됨\n",
    "\n",
    "### sentences(phrase)\n",
    "- 인자로 입력한 여러 문장을 분리해주는 역할\n",
    "- 분리된 문장은 리스트 형태로 반환됨"
   ]
  },
  {
   "cell_type": "code",
   "execution_count": 7,
   "id": "d527dc9a",
   "metadata": {},
   "outputs": [
    {
     "name": "stdout",
     "output_type": "stream",
     "text": [
      "['아버지', '가', '방', '에', '들어가', 'ㅂ니다', '.']\n",
      "[('아버지', 'NNG'), ('가', 'JKS'), ('방', 'NNG'), ('에', 'JKM'), ('들어가', 'VV'), ('ㅂ니다', 'EFN'), ('.', 'SF')]\n",
      "['아버지', '방']\n",
      "['오늘 날씨는 어 때요?', '내일은 덥다 던데.']\n"
     ]
    }
   ],
   "source": [
    "# 꼬꼬마 형태소 분석기 객체 생성\n",
    "kkma = Kkma()\n",
    "\n",
    "text = \"아버지가 방에 들어갑니다.\"\n",
    "\n",
    "# 형태소 추출\n",
    "morphs = kkma.morphs(text)\n",
    "print(morphs)\n",
    "\n",
    "# 형태소와 품사 태그 추출\n",
    "pos = kkma.pos(text)\n",
    "print(pos)\n",
    "\n",
    "# 명사만 추출\n",
    "nouns = kkma.nouns(text)\n",
    "print(nouns)\n",
    "\n",
    "#문장 분리\n",
    "sentences = \"오늘 날씨는 어때요? 내일은 덥다던데.\"\n",
    "s = kkma.sentences(sentences)\n",
    "print(s)"
   ]
  },
  {
   "cell_type": "markdown",
   "id": "17dc7838",
   "metadata": {},
   "source": [
    "- NNG - 일반 명사\n",
    "- JKS - 주격 조사\n",
    "- JKM - 부사격 조사\n",
    "- VV - 동사\n",
    "- EFN - 평서형 종결 어미\n",
    "- SF - 마침표, 물음표, 느낌표"
   ]
  },
  {
   "cell_type": "markdown",
   "id": "1c52e6dc",
   "metadata": {},
   "source": [
    "# 3.2.2 Komoran"
   ]
  },
  {
   "cell_type": "code",
   "execution_count": 8,
   "id": "96bc7650",
   "metadata": {},
   "outputs": [],
   "source": [
    "from konlpy.tag import Komoran"
   ]
  },
  {
   "cell_type": "markdown",
   "id": "d4c98861",
   "metadata": {},
   "source": [
    "### morphs(phrase)\n",
    "- 인자로 입력한 문장을 형태소 단위로 토크나이징\n",
    "- 토크나이징 된 형태소들은 리스트 형태로 반환됨\n",
    "\n",
    "### nouns(phrase)\n",
    "- 인자로 입력한 문장에서 품사가 명사인 토큰들만 추출\n",
    "\n",
    "### pos(phrase, flatten=True)\n",
    "- POS tagger라 부르며, 인자로 입력한 문장에서 형태소를 추출한 뒤 품사 태깅\n",
    "- 추출된 형태소와 그 형태소의 품사가 튜플 형태로 묶여서 리스트로 반환됨"
   ]
  },
  {
   "cell_type": "code",
   "execution_count": 10,
   "id": "c956e82f",
   "metadata": {},
   "outputs": [
    {
     "name": "stdout",
     "output_type": "stream",
     "text": [
      "['아버지', '가', '방', '에', '들어가', 'ㅂ니다', '.']\n",
      "[('아버지', 'NNG'), ('가', 'JKS'), ('방', 'NNG'), ('에', 'JKB'), ('들어가', 'VV'), ('ㅂ니다', 'EF'), ('.', 'SF')]\n",
      "['아버지', '방']\n"
     ]
    }
   ],
   "source": [
    "# 코모란 형태소 분석기 객체 생성\n",
    "komoran = Komoran()\n",
    "\n",
    "text = \"아버지가 방에 들어갑니다.\"\n",
    "\n",
    "# 형태소 추출\n",
    "morphs = komoran.morphs(text)\n",
    "print(morphs)\n",
    "\n",
    "# 형태소와 품사 태그 추출\n",
    "pos = komoran.pos(text)\n",
    "print(pos)\n",
    "\n",
    "# 명사만 추출\n",
    "nouns = komoran.nouns(text)\n",
    "print(nouns)"
   ]
  },
  {
   "cell_type": "markdown",
   "id": "b57a4c5e",
   "metadata": {},
   "source": [
    "- NNG - 일반 명사\n",
    "- JKS - 주격 조사\n",
    "- JKB - 부사격 조사\n",
    "- VV - 동사\n",
    "- EF - 평서형 종결 어미\n",
    "- SF - 마침표, 물음표, 느낌표"
   ]
  },
  {
   "cell_type": "markdown",
   "id": "8d7958c2",
   "metadata": {},
   "source": [
    "# 3.2.3 Okt"
   ]
  },
  {
   "cell_type": "code",
   "execution_count": 11,
   "id": "b938a87b",
   "metadata": {},
   "outputs": [],
   "source": [
    "from konlpy.tag import Okt"
   ]
  },
  {
   "cell_type": "markdown",
   "id": "1eb8bcec",
   "metadata": {},
   "source": [
    "### mophs(phrase)\n",
    "- 인자로 입력한 문장을 형태소 단위로 토크나이징\n",
    "- 토크나이징 된 형태소들은 리스트 형태로 반환됨\n",
    "\n",
    "### nouns(phrase)\n",
    "- 인자로 입력한 문장에서 품사가 명사인 토큰들만 추출\n",
    "\n",
    "### pos(phrase, stem=False, join=False)\n",
    "- POS tagger라 부르며, 인자로 입력한 문장에서 형태소를 추출한 뒤 품사 태깅\n",
    "- 추출된 형태소와 그 형태소의 품사가 튜플 형태로 묶여서 리스트로 반환됨\n",
    "\n",
    "### normalize(phrase)\n",
    "- 입력한 문장을 정규화\n",
    "- 사랑햌ㅋ -> 사랑해ㅋㅋ\n",
    "\n",
    "### phrases(phrase)\n",
    "- 입력한 문장에서 어구를 추출\n",
    "- input: 오늘 날씨가 좋아요\n",
    "- output: ['오늘', '오늘 날씨', '날씨']"
   ]
  },
  {
   "cell_type": "code",
   "execution_count": 12,
   "id": "0dd3c10c",
   "metadata": {},
   "outputs": [
    {
     "name": "stdout",
     "output_type": "stream",
     "text": [
      "['아버지', '가', '방', '에', '들어갑니다', '.']\n",
      "[('아버지', 'Noun'), ('가', 'Josa'), ('방', 'Noun'), ('에', 'Josa'), ('들어갑니다', 'Verb'), ('.', 'Punctuation')]\n",
      "['아버지', '방']\n",
      "오늘 날씨가 좋아요ㅋ ㅋ\n",
      "['오늘', '오늘 날씨', '좋아욬', '날씨']\n"
     ]
    }
   ],
   "source": [
    "# Okt 형태소 분석기 객체 생성\n",
    "okt = Okt()\n",
    "\n",
    "text = \"아버지가 방에 들어갑니다.\"\n",
    "\n",
    "# 형태소 추출\n",
    "morphs = okt.morphs(text)\n",
    "print(morphs)\n",
    "\n",
    "# 형태소와 품사 태그 추출\n",
    "pos = okt.pos(text)\n",
    "print(pos)\n",
    "\n",
    "# 명사만 추출\n",
    "nouns = okt.nouns(text)\n",
    "print(nouns)\n",
    "\n",
    "# 정규화, 어구 추출\n",
    "text = \"오늘 날씨가 좋아욬ㅋ ㅋ\"\n",
    "print(okt.normalize(text))\n",
    "print(okt.phrases(text))"
   ]
  },
  {
   "cell_type": "markdown",
   "id": "fc29e60c",
   "metadata": {},
   "source": [
    "- Nouns - 명사\n",
    "- Verb - 동사\n",
    "- Adjective - 형용사 \n",
    "- Josa - 조사\n",
    "- Punctuation - 구두점"
   ]
  },
  {
   "cell_type": "markdown",
   "id": "a4c21ee1",
   "metadata": {},
   "source": [
    "# 3.2.4 사용자 사전 구축"
   ]
  },
  {
   "cell_type": "code",
   "execution_count": 13,
   "id": "799b7b71",
   "metadata": {},
   "outputs": [
    {
     "name": "stdout",
     "output_type": "stream",
     "text": [
      "[('우리', 'NP'), ('챗봇은', 'NA'), ('엔', 'NNB'), ('엘', 'NNP'), ('피', 'NNG'), ('를', 'JKO'), ('좋아하', 'VV'), ('아', 'EF'), ('.', 'SF')]\n"
     ]
    }
   ],
   "source": [
    "from konlpy.tag import Komoran\n",
    "\n",
    "komoran = Komoran()\n",
    "text = \"우리 챗봇은 엔엘피를 좋아해.\"\n",
    "pos = komoran.pos(text)\n",
    "print(pos)"
   ]
  },
  {
   "cell_type": "markdown",
   "id": "f44077b3",
   "metadata": {},
   "source": [
    "#### [단어] Tab [품사]\n",
    "- 엔엘피 Tab NNG\n",
    "- 나는 내일, 어제의 너와 만난다 Tab NNG\n",
    "- 시샵"
   ]
  },
  {
   "cell_type": "code",
   "execution_count": 23,
   "id": "cc3a7849",
   "metadata": {},
   "outputs": [
    {
     "name": "stdout",
     "output_type": "stream",
     "text": [
      "[('우리', 'NP'), ('챗봇은', 'NA'), ('엔', 'NNB'), ('엘', 'NNP'), ('피', 'NNG'), ('를', 'JKO'), ('좋아하', 'VV'), ('아', 'EF'), ('.', 'SF')]\n"
     ]
    }
   ],
   "source": [
    "from konlpy.tag import Komoran\n",
    "\n",
    "komoran = Komoran(userdic='./user_dic.tsv')\n",
    "text = '우리 챗봇은 엔엘피를 좋아해.'\n",
    "pos = komoran.pos(text)\n",
    "print(pos)\n",
    "\n",
    "# 오류"
   ]
  },
  {
   "cell_type": "code",
   "execution_count": null,
   "id": "ed558f08",
   "metadata": {},
   "outputs": [],
   "source": []
  }
 ],
 "metadata": {
  "kernelspec": {
   "display_name": "Python 3 (ipykernel)",
   "language": "python",
   "name": "python3"
  },
  "language_info": {
   "codemirror_mode": {
    "name": "ipython",
    "version": 3
   },
   "file_extension": ".py",
   "mimetype": "text/x-python",
   "name": "python",
   "nbconvert_exporter": "python",
   "pygments_lexer": "ipython3",
   "version": "3.9.12"
  }
 },
 "nbformat": 4,
 "nbformat_minor": 5
}
